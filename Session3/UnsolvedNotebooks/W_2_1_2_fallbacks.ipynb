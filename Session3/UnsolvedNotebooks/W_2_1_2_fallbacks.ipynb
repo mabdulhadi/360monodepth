{
  "cells": [
    {
      "cell_type": "markdown",
      "metadata": {
        "id": "view-in-github",
        "colab_type": "text"
      },
      "source": [
        "<a href=\"https://colab.research.google.com/github/mabdulhadi/360monodepth/blob/main/Session3/UnsolvedNotebooks/W_2_1_2_fallbacks.ipynb\" target=\"_parent\"><img src=\"https://colab.research.google.com/assets/colab-badge.svg\" alt=\"Open In Colab\"/></a>"
      ]
    },
    {
      "cell_type": "markdown",
      "id": "19c9cbd6",
      "metadata": {
        "id": "19c9cbd6"
      },
      "source": [
        "# How to add fallbacks\n",
        "\n",
        "When working with language models, you may often encounter issues from the underlying APIs, whether these be rate limiting or downtime. Therefore, as you go to move your LLM applications into production it becomes more and more important to safeguard against these. That's why we've introduced the concept of fallbacks.\n",
        "\n",
        "A **fallback** is an alternative plan that may be used in an emergency.\n",
        "\n",
        "Crucially, fallbacks can be applied not only on the LLM level but on the whole runnable level. This is important because often times different models require different prompts. So if your call to OpenAI fails, you don't just want to send the same prompt to Anthropic - you probably want to use a different prompt template and send a different version there."
      ]
    },
    {
      "cell_type": "markdown",
      "id": "a6bb9ba9",
      "metadata": {
        "id": "a6bb9ba9"
      },
      "source": [
        "## Fallback for LLM API Errors\n",
        "\n",
        "This is maybe the most common use case for fallbacks. A request to an LLM API can fail for a variety of reasons - the API could be down, you could have hit rate limits, any number of things. Therefore, using fallbacks can help protect against these types of things.\n",
        "\n",
        "IMPORTANT: By default, a lot of the LLM wrappers catch errors and retry. You will most likely want to turn those off when working with fallbacks. Otherwise the first wrapper will keep on retrying and not failing."
      ]
    },
    {
      "cell_type": "code",
      "execution_count": null,
      "id": "3a449a2e",
      "metadata": {
        "id": "3a449a2e",
        "colab": {
          "base_uri": "https://localhost:8080/"
        },
        "outputId": "0aacf9da-bf03-4cb1-bd3b-fbf2d4d37ca3"
      },
      "outputs": [
        {
          "output_type": "stream",
          "name": "stdout",
          "text": [
            "\u001b[?25l   \u001b[90m━━━━━━━━━━━━━━━━━━━━━━━━━━━━━━━━━━━━━━━━\u001b[0m \u001b[32m0.0/74.3 kB\u001b[0m \u001b[31m?\u001b[0m eta \u001b[36m-:--:--\u001b[0m\r\u001b[2K   \u001b[90m━━━━━━━━━━━━━━━━━━━━━━━━━━━━━━━━━━━━━━━━\u001b[0m \u001b[32m74.3/74.3 kB\u001b[0m \u001b[31m2.1 MB/s\u001b[0m eta \u001b[36m0:00:00\u001b[0m\n",
            "\u001b[2K   \u001b[90m━━━━━━━━━━━━━━━━━━━━━━━━━━━━━━━━━━━━━━━━\u001b[0m \u001b[32m443.5/443.5 kB\u001b[0m \u001b[31m13.8 MB/s\u001b[0m eta \u001b[36m0:00:00\u001b[0m\n",
            "\u001b[2K   \u001b[90m━━━━━━━━━━━━━━━━━━━━━━━━━━━━━━━━━━━━━━━━\u001b[0m \u001b[32m131.4/131.4 kB\u001b[0m \u001b[31m7.9 MB/s\u001b[0m eta \u001b[36m0:00:00\u001b[0m\n",
            "\u001b[?25h"
          ]
        }
      ],
      "source": [
        "%pip install --upgrade --quiet  langchain langchain-openai\n",
        "%pip install -qU langchain-groq"
      ]
    },
    {
      "cell_type": "code",
      "source": [
        "from google.colab import userdata\n",
        "groq_key = userdata.get('groqdummy')\n",
        "open_key = (\"projsite_openAI\")"
      ],
      "metadata": {
        "id": "zHG3SdMDC5nV"
      },
      "id": "zHG3SdMDC5nV",
      "execution_count": null,
      "outputs": []
    },
    {
      "cell_type": "code",
      "execution_count": null,
      "id": "d3e893bf",
      "metadata": {
        "id": "d3e893bf"
      },
      "outputs": [],
      "source": [
        "from langchain_groq import ChatGroq\n",
        "from langchain_openai import ChatOpenAI"
      ]
    },
    {
      "cell_type": "markdown",
      "id": "4847c82d",
      "metadata": {
        "id": "4847c82d"
      },
      "source": [
        "First, let's mock out what happens if we hit a RateLimitError from OpenAI"
      ]
    },
    {
      "cell_type": "code",
      "execution_count": null,
      "id": "dfdd8bf5",
      "metadata": {
        "id": "dfdd8bf5"
      },
      "outputs": [],
      "source": [
        "from unittest.mock import patch\n",
        "\n",
        "import httpx\n",
        "from openai import RateLimitError\n",
        "\n",
        "request = httpx.Request(\"GET\", \"/\")\n",
        "response = httpx.Response(200, request=request)\n",
        "error = RateLimitError(\"rate limit\", response=response, body=\"\")"
      ]
    },
    {
      "cell_type": "code",
      "execution_count": null,
      "id": "e6fdffc1",
      "metadata": {
        "id": "e6fdffc1"
      },
      "outputs": [],
      "source": [
        "# Note that we set max_retries = 0 to avoid retrying on RateLimits, etc\n",
        "openai_llm = ChatOpenAI(model=\"gpt-4.1-nano\", max_retries=0, api_key=open_key)\n",
        "\n",
        "groq_llm = ChatGroq(\n",
        "    model=\"llama-3.1-8b-instant\",\n",
        "    temperature=0,\n",
        "    max_tokens=None,\n",
        "    timeout=None,\n",
        "    max_retries=2,\n",
        "    api_key=groq_key,\n",
        "    # other params...\n",
        ")\n",
        "llm = openai_llm.with_fallbacks([groq_llm])"
      ]
    },
    {
      "cell_type": "code",
      "execution_count": null,
      "id": "584461ab",
      "metadata": {
        "id": "584461ab",
        "outputId": "d626b85c-4942-4882-9a85-c2b2265fac50",
        "colab": {
          "base_uri": "https://localhost:8080/"
        }
      },
      "outputs": [
        {
          "output_type": "stream",
          "name": "stdout",
          "text": [
            "Hit error\n"
          ]
        }
      ],
      "source": [
        "# Let's use just the OpenAI LLm first, to show that we run into an error\n",
        "with patch(\"openai.resources.chat.completions.Completions.create\", side_effect=error):\n",
        "    try:\n",
        "        print(openai_llm.invoke(\"Why did the chicken cross the road?\"))\n",
        "    except RateLimitError:\n",
        "        print(\"Hit error\")"
      ]
    },
    {
      "cell_type": "code",
      "execution_count": null,
      "id": "4fc1e673",
      "metadata": {
        "id": "4fc1e673",
        "outputId": "b7b56179-9fa9-4b7f-a6b9-9775a4d8a3d4",
        "colab": {
          "base_uri": "https://localhost:8080/"
        }
      },
      "outputs": [
        {
          "output_type": "stream",
          "name": "stdout",
          "text": [
            "content='The classic joke. There are many answers to this question, but the most well-known one is:\\n\\n\"To get to the other side!\"\\n\\nHowever, there are many other creative and humorous explanations for why the chicken crossed the road. Some of these include:\\n\\n- To get away from the farmer\\'s constant \"egg-xpectations.\"\\n- To get to the bar for a drink, because it was having a fowl day.\\n- To prove to the possum it could be done without using a crosswalk.\\n- To get to the therapist, because it was having some egg-istential crisis.\\n- To get to the gym to work on its egg-cellent abs.\\n\\nWhich one do you like best?' additional_kwargs={} response_metadata={'token_usage': {'completion_tokens': 142, 'prompt_tokens': 43, 'total_tokens': 185, 'completion_time': 0.170591318, 'prompt_time': 0.01059617, 'queue_time': 0.193933847, 'total_time': 0.181187488}, 'model_name': 'llama-3.1-8b-instant', 'system_fingerprint': 'fp_c8fb515de2', 'service_tier': 'on_demand', 'finish_reason': 'stop', 'logprobs': None} id='run--bca30e15-706a-4cc9-b848-d40ef3e3b29b-0' usage_metadata={'input_tokens': 43, 'output_tokens': 142, 'total_tokens': 185}\n"
          ]
        }
      ],
      "source": [
        "# Now let's try with fallbacks to groq\n",
        "with patch(\"openai.resources.chat.completions.Completions.create\", side_effect=error):\n",
        "    try:\n",
        "        print(llm.invoke(\"Why did the chicken cross the road?\"))\n",
        "    except RateLimitError:\n",
        "        print(\"Hit error\")"
      ]
    },
    {
      "cell_type": "markdown",
      "id": "f00bea25",
      "metadata": {
        "id": "f00bea25"
      },
      "source": [
        "We can use our \"LLM with Fallbacks\" as we would a normal LLM."
      ]
    },
    {
      "cell_type": "code",
      "execution_count": null,
      "id": "4f8eaaa0",
      "metadata": {
        "id": "4f8eaaa0",
        "outputId": "98310fc9-fb15-4f08-eb1d-77b9227b35fc"
      },
      "outputs": [
        {
          "name": "stdout",
          "output_type": "stream",
          "text": [
            "content=\" I don't actually know why the kangaroo crossed the road, but I can take a guess! Here are some possible reasons:\\n\\n- To get to the other side (the classic joke answer!)\\n\\n- It was trying to find some food or water \\n\\n- It was trying to find a mate during mating season\\n\\n- It was fleeing from a predator or perceived threat\\n\\n- It was disoriented and crossed accidentally \\n\\n- It was following a herd of other kangaroos who were crossing\\n\\n- It wanted a change of scenery or environment \\n\\n- It was trying to reach a new habitat or territory\\n\\nThe real reason is unknown without more context, but hopefully one of those potential explanations does the joke justice! Let me know if you have any other animal jokes I can try to decipher.\" additional_kwargs={} example=False\n"
          ]
        }
      ],
      "source": [
        "from langchain_core.prompts import ChatPromptTemplate\n",
        "\n",
        "prompt = ChatPromptTemplate.from_messages(\n",
        "    [\n",
        "        (\n",
        "            \"system\",\n",
        "            \"You're a nice assistant who always includes a compliment in your response\",\n",
        "        ),\n",
        "        (\"human\", \"Why did the {animal} cross the road\"),\n",
        "    ]\n",
        ")\n",
        "chain = prompt | llm\n",
        "with patch(\"openai.resources.chat.completions.Completions.create\", side_effect=error):\n",
        "    try:\n",
        "        print(chain.invoke({\"animal\": \"kangaroo\"}))\n",
        "    except RateLimitError:\n",
        "        print(\"Hit error\")"
      ]
    },
    {
      "cell_type": "markdown",
      "id": "8d62241b",
      "metadata": {
        "id": "8d62241b"
      },
      "source": [
        "## Fallback for Sequences\n",
        "\n",
        "We can also create fallbacks for sequences, that are sequences themselves. Here we do that with two different models: ChatOpenAI and then normal OpenAI (which does not use a chat model). Because OpenAI is NOT a chat model, you likely want a different prompt."
      ]
    },
    {
      "cell_type": "code",
      "execution_count": null,
      "id": "6d0b8056",
      "metadata": {
        "id": "6d0b8056"
      },
      "outputs": [],
      "source": [
        "# First let's create a chain with a ChatModel\n",
        "# We add in a string output parser here so the outputs between the two are the same type\n",
        "from langchain_core.output_parsers import StrOutputParser\n",
        "\n",
        "chat_prompt = ChatPromptTemplate.from_messages(\n",
        "    [\n",
        "        (\n",
        "            \"system\",\n",
        "            \"You're a nice assistant who always includes a compliment in your response\",\n",
        "        ),\n",
        "        (\"human\", \"Why did the {animal} cross the road\"),\n",
        "    ]\n",
        ")\n",
        "# Here we're going to use a bad model name to easily create a chain that will error\n",
        "chat_model = ChatOpenAI(model=\"gpt-fake\")\n",
        "bad_chain = chat_prompt | chat_model | StrOutputParser()"
      ]
    },
    {
      "cell_type": "code",
      "execution_count": null,
      "id": "8d1fc2a5",
      "metadata": {
        "id": "8d1fc2a5"
      },
      "outputs": [],
      "source": [
        "# Now lets create a chain with the normal OpenAI model\n",
        "from langchain_core.prompts import PromptTemplate\n",
        "from langchain_openai import OpenAI\n",
        "\n",
        "prompt_template = \"\"\"Instructions: You should always include a compliment in your response.\n",
        "\n",
        "Question: Why did the {animal} cross the road?\"\"\"\n",
        "prompt = PromptTemplate.from_template(prompt_template)\n",
        "llm = OpenAI()\n",
        "good_chain = prompt | llm"
      ]
    },
    {
      "cell_type": "code",
      "execution_count": null,
      "id": "283bfa44",
      "metadata": {
        "id": "283bfa44",
        "outputId": "e0c13d45-c524-4e64-aa47-04e109c7a591"
      },
      "outputs": [
        {
          "data": {
            "text/plain": [
              "'\\n\\nAnswer: The turtle crossed the road to get to the other side, and I have to say he had some impressive determination.'"
            ]
          },
          "execution_count": 32,
          "metadata": {},
          "output_type": "execute_result"
        }
      ],
      "source": [
        "# We can now create a final chain which combines the two\n",
        "chain = bad_chain.with_fallbacks([good_chain])\n",
        "chain.invoke({\"animal\": \"turtle\"})"
      ]
    },
    {
      "cell_type": "markdown",
      "id": "ec4685b4",
      "metadata": {
        "id": "ec4685b4"
      },
      "source": [
        "## Fallback for Long Inputs\n",
        "\n",
        "One of the big limiting factors of LLMs is their context window. Usually, you can count and track the length of prompts before sending them to an LLM, but in situations where that is hard/complicated, you can fallback to a model with a longer context length."
      ]
    },
    {
      "cell_type": "code",
      "execution_count": null,
      "id": "564b84c9",
      "metadata": {
        "id": "564b84c9"
      },
      "outputs": [],
      "source": [
        "short_llm = ChatOpenAI()\n",
        "long_llm = ChatOpenAI(model=\"gpt-3.5-turbo-16k\")\n",
        "llm = short_llm.with_fallbacks([long_llm])"
      ]
    },
    {
      "cell_type": "code",
      "execution_count": null,
      "id": "5e27a775",
      "metadata": {
        "id": "5e27a775"
      },
      "outputs": [],
      "source": [
        "inputs = \"What is the next number: \" + \", \".join([\"one\", \"two\"] * 3000)"
      ]
    },
    {
      "cell_type": "code",
      "execution_count": null,
      "id": "0a502731",
      "metadata": {
        "id": "0a502731",
        "outputId": "f0e30bd4-7dd0-41c1-93a0-79eb3597377d"
      },
      "outputs": [
        {
          "name": "stdout",
          "output_type": "stream",
          "text": [
            "This model's maximum context length is 4097 tokens. However, your messages resulted in 12012 tokens. Please reduce the length of the messages.\n"
          ]
        }
      ],
      "source": [
        "try:\n",
        "    print(short_llm.invoke(inputs))\n",
        "except Exception as e:\n",
        "    print(e)"
      ]
    },
    {
      "cell_type": "code",
      "execution_count": null,
      "id": "d91ba5d7",
      "metadata": {
        "id": "d91ba5d7",
        "outputId": "2623f039-c2bf-4881-eae9-60ac64a9000e"
      },
      "outputs": [
        {
          "name": "stdout",
          "output_type": "stream",
          "text": [
            "content='The next number in the sequence is two.' additional_kwargs={} example=False\n"
          ]
        }
      ],
      "source": [
        "try:\n",
        "    print(llm.invoke(inputs))\n",
        "except Exception as e:\n",
        "    print(e)"
      ]
    },
    {
      "cell_type": "markdown",
      "id": "2a6735df",
      "metadata": {
        "id": "2a6735df"
      },
      "source": [
        "## Fallback to Better Model\n",
        "\n",
        "Often times we ask models to output format in a specific format (like JSON). Models like GPT-3.5 can do this okay, but sometimes struggle. This naturally points to fallbacks - we can try with GPT-3.5 (faster, cheaper), but then if parsing fails we can use GPT-4."
      ]
    },
    {
      "cell_type": "code",
      "execution_count": null,
      "id": "867a3793",
      "metadata": {
        "id": "867a3793"
      },
      "outputs": [],
      "source": [
        "from langchain.output_parsers import DatetimeOutputParser"
      ]
    },
    {
      "cell_type": "code",
      "execution_count": null,
      "id": "b8d9959d",
      "metadata": {
        "id": "b8d9959d"
      },
      "outputs": [],
      "source": [
        "prompt = ChatPromptTemplate.from_template(\n",
        "    \"what time was {event} (in %Y-%m-%dT%H:%M:%S.%fZ format - only return this value)\"\n",
        ")"
      ]
    },
    {
      "cell_type": "code",
      "execution_count": null,
      "id": "98087a76",
      "metadata": {
        "id": "98087a76"
      },
      "outputs": [],
      "source": [
        "# In this case we are going to do the fallbacks on the LLM + output parser level\n",
        "# Because the error will get raised in the OutputParser\n",
        "openai_35 = ChatOpenAI() | DatetimeOutputParser()\n",
        "openai_4 = ChatOpenAI(model=\"gpt-4\") | DatetimeOutputParser()"
      ]
    },
    {
      "cell_type": "code",
      "execution_count": null,
      "id": "17ec9e8f",
      "metadata": {
        "id": "17ec9e8f"
      },
      "outputs": [],
      "source": [
        "only_35 = prompt | openai_35\n",
        "fallback_4 = prompt | openai_35.with_fallbacks([openai_4])"
      ]
    },
    {
      "cell_type": "code",
      "execution_count": null,
      "id": "7e536f0b",
      "metadata": {
        "id": "7e536f0b",
        "outputId": "96906b94-c10b-452d-ac5f-b22d0860414a"
      },
      "outputs": [
        {
          "name": "stdout",
          "output_type": "stream",
          "text": [
            "Error: Could not parse datetime string: The Super Bowl in 1994 took place on January 30th at 3:30 PM local time. Converting this to the specified format (%Y-%m-%dT%H:%M:%S.%fZ) results in: 1994-01-30T15:30:00.000Z\n"
          ]
        }
      ],
      "source": [
        "try:\n",
        "    print(only_35.invoke({\"event\": \"the superbowl in 1994\"}))\n",
        "except Exception as e:\n",
        "    print(f\"Error: {e}\")"
      ]
    },
    {
      "cell_type": "code",
      "execution_count": null,
      "id": "01355c5e",
      "metadata": {
        "id": "01355c5e",
        "outputId": "be5d0a59-b1b7-430a-f43f-48f8599e5b24"
      },
      "outputs": [
        {
          "name": "stdout",
          "output_type": "stream",
          "text": [
            "1994-01-30 15:30:00\n"
          ]
        }
      ],
      "source": [
        "try:\n",
        "    print(fallback_4.invoke({\"event\": \"the superbowl in 1994\"}))\n",
        "except Exception as e:\n",
        "    print(f\"Error: {e}\")"
      ]
    },
    {
      "cell_type": "code",
      "execution_count": null,
      "id": "c537f9d0",
      "metadata": {
        "id": "c537f9d0"
      },
      "outputs": [],
      "source": []
    }
  ],
  "metadata": {
    "kernelspec": {
      "display_name": "Python 3 (ipykernel)",
      "language": "python",
      "name": "python3"
    },
    "language_info": {
      "codemirror_mode": {
        "name": "ipython",
        "version": 3
      },
      "file_extension": ".py",
      "mimetype": "text/x-python",
      "name": "python",
      "nbconvert_exporter": "python",
      "pygments_lexer": "ipython3",
      "version": "3.9.1"
    },
    "colab": {
      "provenance": [],
      "include_colab_link": true
    }
  },
  "nbformat": 4,
  "nbformat_minor": 5
}